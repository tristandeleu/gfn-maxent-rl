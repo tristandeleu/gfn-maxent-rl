{
 "cells": [
  {
   "cell_type": "code",
   "execution_count": 6,
   "metadata": {},
   "outputs": [],
   "source": [
    "# Add \"gfn_maxent_rl\" to the path (only needed in notebook)\n",
    "import sys\n",
    "sys.path.insert(0, '..')"
   ]
  },
  {
   "cell_type": "code",
   "execution_count": 25,
   "metadata": {},
   "outputs": [],
   "source": [
    "import wandb\n",
    "import os\n",
    "import hydra\n",
    "import jax\n",
    "import jax.numpy as jnp\n",
    "\n",
    "from pathlib import Path\n",
    "from numpy.random import default_rng\n",
    "\n",
    "from gfn_maxent_rl.utils import io\n",
    "from gfn_maxent_rl.utils.evaluations import get_samples_from_env\n",
    "from gfn_maxent_rl.utils.estimation import estimate_log_probs_backward"
   ]
  },
  {
   "cell_type": "code",
   "execution_count": 3,
   "metadata": {},
   "outputs": [
    {
     "name": "stderr",
     "output_type": "stream",
     "text": [
      "\u001b[34m\u001b[1mwandb\u001b[0m: \u001b[33mWARNING\u001b[0m Path :/home/mila/p/padideh.nouri/scratch/wandb/ wasn't writable, using system temp directory\n"
     ]
    }
   ],
   "source": [
    "api = wandb.Api()"
   ]
  },
  {
   "cell_type": "code",
   "execution_count": 15,
   "metadata": {},
   "outputs": [],
   "source": [
    "run = api.run('tristandeleu_mila_01/gfn_maxent_rl/8s05x4ul')"
   ]
  },
  {
   "cell_type": "code",
   "execution_count": 16,
   "metadata": {},
   "outputs": [
    {
     "data": {
      "text/plain": [
       "'dbv'"
      ]
     },
     "execution_count": 16,
     "metadata": {},
     "output_type": "execute_result"
    }
   ],
   "source": [
    "# Check the algorithm (we need to pack the parameters)\n",
    "run.config['exp_name_algorithm']"
   ]
  },
  {
   "cell_type": "code",
   "execution_count": 18,
   "metadata": {},
   "outputs": [
    {
     "data": {
      "text/plain": [
       "<_io.TextIOWrapper name='/Tmp/slurm.4056223.0/8s05x4ul/model.npz' mode='r' encoding='UTF-8'>"
      ]
     },
     "execution_count": 18,
     "metadata": {},
     "output_type": "execute_result"
    }
   ],
   "source": [
    "root = Path(os.getenv('SLURM_TMPDIR')) / run.id\n",
    "run.file('model.npz').download(root=root, exist_ok=True)\n",
    "\n",
    "# with open(root / 'model.npz', 'rb') as f:\n",
    "#     params = DBVParameters(**io.load(f))\n",
    "\n",
    "# # Patch\n",
    "# params = jax.tree_util.tree_map(lambda x: x.item(), params)"
   ]
  },
  {
   "cell_type": "code",
   "execution_count": 19,
   "metadata": {},
   "outputs": [],
   "source": [
    "with open(root / 'model.npz', 'rb') as f:\n",
    "    data = io.load(f)\n",
    "    params, state = data['params'], data['state']"
   ]
  },
  {
   "cell_type": "code",
   "execution_count": 20,
   "metadata": {},
   "outputs": [],
   "source": [
    "env, infos = hydra.utils.instantiate(\n",
    "    run.config['env'],\n",
    "    num_envs=run.config['num_envs'],\n",
    "    seed=run.config['seed'],\n",
    "    rng=default_rng(run.config['seed']),\n",
    ")"
   ]
  },
  {
   "cell_type": "code",
   "execution_count": 21,
   "metadata": {},
   "outputs": [],
   "source": [
    "algorithm = hydra.utils.instantiate(run.config['algorithm'], env=env)"
   ]
  },
  {
   "cell_type": "code",
   "execution_count": 9,
   "metadata": {},
   "outputs": [],
   "source": [
    "# # Patch\n",
    "# net_state = DBVParameters(\n",
    "#     policy={'~': {'normalization': jnp.array(1., dtype=jnp.float32)}},\n",
    "#     flow={}\n",
    "# )"
   ]
  },
  {
   "cell_type": "code",
   "execution_count": 23,
   "metadata": {},
   "outputs": [
    {
     "data": {
      "application/vnd.jupyter.widget-view+json": {
       "model_id": "d42b3a603832452f98716819950288ba",
       "version_major": 2,
       "version_minor": 0
      },
      "text/plain": [
       "  0%|          | 0/1000 [00:00<?, ?it/s]"
      ]
     },
     "metadata": {},
     "output_type": "display_data"
    }
   ],
   "source": [
    "key = jax.random.PRNGKey(run.config['seed'])\n",
    "samples, returns = get_samples_from_env(\n",
    "    env,\n",
    "    algorithm,\n",
    "    params,\n",
    "    state,\n",
    "    key,\n",
    "    num_samples=1000,\n",
    "    verbose=True\n",
    ")"
   ]
  },
  {
   "cell_type": "code",
   "execution_count": 28,
   "metadata": {},
   "outputs": [
    {
     "data": {
      "application/vnd.jupyter.widget-view+json": {
       "model_id": "0fb17395c3b04395bb23b98b78d85237",
       "version_major": 2,
       "version_minor": 0
      },
      "text/plain": [
       "  0%|          | 0/500 [00:00<?, ?it/s]"
      ]
     },
     "metadata": {},
     "output_type": "display_data"
    }
   ],
   "source": [
    "log_probs = estimate_log_probs_backward(\n",
    "    env,\n",
    "    algorithm,\n",
    "    params,\n",
    "    state,\n",
    "    samples=samples,\n",
    "    rng=default_rng(0),\n",
    "    batch_size=2,\n",
    "    num_trajectories=100,\n",
    "    verbose=True\n",
    ")"
   ]
  },
  {
   "cell_type": "code",
   "execution_count": 30,
   "metadata": {},
   "outputs": [],
   "source": [
    "log_probs_values = jnp.array([log_probs[key] for key in log_probs.keys()])\n",
    "log_probs_keys = [*log_probs.keys()]\n",
    "samples_Return = returns\n",
    "\n",
    "dict_samples = {}\n",
    "for i, tree in enumerate(samples):\n",
    "    dict_samples[tree] = samples_Return[i]"
   ]
  },
  {
   "cell_type": "code",
   "execution_count": null,
   "metadata": {},
   "outputs": [],
   "source": [
    "# import pickle\n",
    "\n",
    "# with open('dict_samples.pkl', 'wb') as f:\n",
    "#     pickle.dump(dict_samples, f)\n",
    "\n",
    "# with open('dict_log_probs.pkl', 'wb') as f:\n",
    "#     pickle.dump(log_probs, f)"
   ]
  },
  {
   "cell_type": "code",
   "execution_count": 31,
   "metadata": {},
   "outputs": [],
   "source": [
    "import matplotlib.pyplot as plt"
   ]
  },
  {
   "cell_type": "code",
   "execution_count": 34,
   "metadata": {},
   "outputs": [
    {
     "data": {
      "image/png": "[encoded data removed]",
      "text/plain": [
       "<Figure size 640x480 with 1 Axes>"
      ]
     },
     "metadata": {},
     "output_type": "display_data"
    }
   ],
   "source": [
    "log_probs_list = []\n",
    "Scores_list = []\n",
    "for key in log_probs.keys():\n",
    "    log_probs_list.append(log_probs[key])\n",
    "    Scores_list.append(dict_samples[key])\n",
    "\n",
    "plt.scatter(log_probs_list, Scores_list)\n",
    "plt.xlabel('log_probs')\n",
    "plt.ylabel('parsimony scores')\n",
    "\n",
    "plt.savefig('my_plot.png')"
   ]
  },
  {
   "cell_type": "code",
   "execution_count": null,
   "metadata": {},
   "outputs": [],
   "source": []
  },
  {
   "cell_type": "code",
   "execution_count": null,
   "metadata": {},
   "outputs": [],
   "source": []
  },
  {
   "cell_type": "code",
   "execution_count": null,
   "metadata": {},
   "outputs": [],
   "source": []
  }
 ],
 "metadata": {
  "kernelspec": {
   "display_name": "Python 3 (ipykernel)",
   "language": "python",
   "name": "python3"
  },
  "language_info": {
   "codemirror_mode": {
    "name": "ipython",
    "version": 3
   },
   "file_extension": ".py",
   "mimetype": "text/x-python",
   "name": "python",
   "nbconvert_exporter": "python",
   "pygments_lexer": "ipython3",
   "version": "3.10.11"
  }
 },
 "nbformat": 4,
 "nbformat_minor": 4
}
