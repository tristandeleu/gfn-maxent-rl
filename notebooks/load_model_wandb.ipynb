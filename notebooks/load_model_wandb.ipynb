{
 "cells": [
  {
   "cell_type": "code",
   "execution_count": 1,
   "metadata": {},
   "outputs": [],
   "source": [
    "# Add \"gfn_maxent_rl\" to the path (only needed in notebook)\n",
    "import sys\n",
    "sys.path.insert(0, '..')"
   ]
  },
  {
   "cell_type": "code",
   "execution_count": 2,
   "metadata": {},
   "outputs": [],
   "source": [
    "import wandb\n",
    "import os\n",
    "import hydra\n",
    "import jax\n",
    "import jax.numpy as jnp\n",
    "\n",
    "from pathlib import Path\n",
    "from numpy.random import default_rng\n",
    "\n",
    "from gfn_maxent_rl.algos.detailed_balance_vanilla import DBVParameters\n",
    "from gfn_maxent_rl.utils import io\n",
    "from gfn_maxent_rl.utils.evaluations import get_samples_from_env"
   ]
  },
  {
   "cell_type": "code",
   "execution_count": 3,
   "metadata": {},
   "outputs": [],
   "source": [
    "api = wandb.Api()"
   ]
  },
  {
   "cell_type": "code",
   "execution_count": 4,
   "metadata": {},
   "outputs": [],
   "source": [
    "run = api.run('tristandeleu_mila_01/gfn_maxent_rl/aw4ru2l7')"
   ]
  },
  {
   "cell_type": "code",
   "execution_count": 5,
   "metadata": {},
   "outputs": [
    {
     "data": {
      "text/plain": [
       "'dbv'"
      ]
     },
     "execution_count": 5,
     "metadata": {},
     "output_type": "execute_result"
    }
   ],
   "source": [
    "# Check the algorithm (we need to pack the parameters)\n",
    "run.config['exp_name_algorithm']"
   ]
  },
  {
   "cell_type": "code",
   "execution_count": 6,
   "metadata": {},
   "outputs": [
    {
     "name": "stderr",
     "output_type": "stream",
     "text": [
      "WARNING: All log messages before absl::InitializeLog() is called are written to STDERR\n",
      "I0000 00:00:1706026710.670022   35344 tfrt_cpu_pjrt_client.cc:349] TfrtCpuClient created.\n"
     ]
    }
   ],
   "source": [
    "root = Path(os.getenv('SLURM_TMPDIR')) / run.id\n",
    "run.file('model.npz').download(root=root, exist_ok=True)\n",
    "\n",
    "with open(root / 'model.npz', 'rb') as f:\n",
    "    params = DBVParameters(**io.load(f))\n",
    "\n",
    "# Patch\n",
    "params = jax.tree_util.tree_map(lambda x: x.item(), params)"
   ]
  },
  {
   "cell_type": "code",
   "execution_count": 7,
   "metadata": {},
   "outputs": [],
   "source": [
    "env, infos = hydra.utils.instantiate(\n",
    "    run.config['env'],\n",
    "    num_envs=run.config['num_envs'],\n",
    "    seed=run.config['seed'],\n",
    "    rng=default_rng(run.config['seed']),\n",
    ")"
   ]
  },
  {
   "cell_type": "code",
   "execution_count": 8,
   "metadata": {},
   "outputs": [],
   "source": [
    "algorithm = hydra.utils.instantiate(run.config['algorithm'], env=env)"
   ]
  },
  {
   "cell_type": "code",
   "execution_count": 9,
   "metadata": {},
   "outputs": [],
   "source": [
    "# Patch\n",
    "net_state = DBVParameters(\n",
    "    policy={'~': {'normalization': jnp.array(1., dtype=jnp.float32)}},\n",
    "    flow={}\n",
    ")"
   ]
  },
  {
   "cell_type": "code",
   "execution_count": 10,
   "metadata": {},
   "outputs": [
    {
     "data": {
      "application/vnd.jupyter.widget-view+json": {
       "model_id": "6c964bac97c84b07a70c5b5a0753be6d",
       "version_major": 2,
       "version_minor": 0
      },
      "text/plain": [
       "  0%|          | 0/1000 [00:00<?, ?it/s]"
      ]
     },
     "metadata": {},
     "output_type": "display_data"
    }
   ],
   "source": [
    "key = jax.random.PRNGKey(run.config['seed'])\n",
    "samples, returns = get_samples_from_env(\n",
    "    env,\n",
    "    algorithm,\n",
    "    params,\n",
    "    net_state,\n",
    "    key,\n",
    "    num_samples=1000,\n",
    "    verbose=True\n",
    ")"
   ]
  },
  {
   "cell_type": "code",
   "execution_count": null,
   "metadata": {},
   "outputs": [],
   "source": []
  }
 ],
 "metadata": {
  "kernelspec": {
   "display_name": "Python 3 (ipykernel)",
   "language": "python",
   "name": "python3"
  },
  "language_info": {
   "codemirror_mode": {
    "name": "ipython",
    "version": 3
   },
   "file_extension": ".py",
   "mimetype": "text/x-python",
   "name": "python",
   "nbconvert_exporter": "python",
   "pygments_lexer": "ipython3",
   "version": "3.10.11"
  }
 },
 "nbformat": 4,
 "nbformat_minor": 4
}
